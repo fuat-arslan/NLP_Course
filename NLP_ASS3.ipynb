{
  "nbformat": 4,
  "nbformat_minor": 0,
  "metadata": {
    "colab": {
      "provenance": [],
      "authorship_tag": "ABX9TyNj3G2XVbdgR2U3/94qhQ7L",
      "include_colab_link": true
    },
    "kernelspec": {
      "name": "python3",
      "display_name": "Python 3"
    },
    "language_info": {
      "name": "python"
    }
  },
  "cells": [
    {
      "cell_type": "markdown",
      "metadata": {
        "id": "view-in-github",
        "colab_type": "text"
      },
      "source": [
        "<a href=\"https://colab.research.google.com/github/fuat-arslan/NLP_Course/blob/main/NLP_ASS3.ipynb\" target=\"_parent\"><img src=\"https://colab.research.google.com/assets/colab-badge.svg\" alt=\"Open In Colab\"/></a>"
      ]
    },
    {
      "cell_type": "code",
      "source": [
        "import nltk\n",
        "nltk.download('punkt') #required for tokenizer\n",
        "nltk.download('averaged_perceptron_tagger') #required for pos_tag\n",
        "nltk.download('universal_tagset')\n",
        "nltk.download('wordnet')\n",
        "\n",
        "from nltk.stem import WordNetLemmatizer\n",
        "from nltk.corpus import wordnet\n",
        "import numpy as np"
      ],
      "metadata": {
        "colab": {
          "base_uri": "https://localhost:8080/"
        },
        "id": "a2ZRbPYotoVf",
        "outputId": "5e031da5-dd4d-4b6f-f730-0de5fcceab9f"
      },
      "execution_count": 21,
      "outputs": [
        {
          "output_type": "stream",
          "name": "stderr",
          "text": [
            "[nltk_data] Downloading package punkt to /root/nltk_data...\n",
            "[nltk_data]   Package punkt is already up-to-date!\n",
            "[nltk_data] Downloading package averaged_perceptron_tagger to\n",
            "[nltk_data]     /root/nltk_data...\n",
            "[nltk_data]   Package averaged_perceptron_tagger is already up-to-\n",
            "[nltk_data]       date!\n",
            "[nltk_data] Downloading package universal_tagset to /root/nltk_data...\n",
            "[nltk_data]   Package universal_tagset is already up-to-date!\n",
            "[nltk_data] Downloading package wordnet to /root/nltk_data...\n"
          ]
        }
      ]
    },
    {
      "cell_type": "markdown",
      "source": [
        "Read the txt file and tokenize it with nltk"
      ],
      "metadata": {
        "id": "6Z3-9oBUtiVn"
      }
    },
    {
      "cell_type": "code",
      "execution_count": 7,
      "metadata": {
        "id": "dgyfG57_sS9P"
      },
      "outputs": [],
      "source": [
        "with open('/content/Fyodor Dostoyevski Processed.txt', 'r') as f:\n",
        "    text = f.read()\n",
        "\n",
        "tokens = nltk.tokenize.word_tokenize(text)"
      ]
    },
    {
      "cell_type": "code",
      "source": [
        "np.array(tokens).shape"
      ],
      "metadata": {
        "colab": {
          "base_uri": "https://localhost:8080/"
        },
        "id": "L7Uens1-t7ix",
        "outputId": "83f49ee2-a5a6-455d-943f-f337bd810a96"
      },
      "execution_count": 10,
      "outputs": [
        {
          "output_type": "execute_result",
          "data": {
            "text/plain": [
              "(1425758,)"
            ]
          },
          "metadata": {},
          "execution_count": 10
        }
      ]
    },
    {
      "cell_type": "markdown",
      "source": [
        "POS tags"
      ],
      "metadata": {
        "id": "uzMqzYWuujCC"
      }
    },
    {
      "cell_type": "code",
      "source": [
        "pos_tags = nltk.tag.pos_tag(tokens, tagset='universal')"
      ],
      "metadata": {
        "id": "Tk-2f7sUuivm"
      },
      "execution_count": 16,
      "outputs": []
    },
    {
      "cell_type": "code",
      "source": [
        "#Example tags\n",
        "pos_tags[0:10]"
      ],
      "metadata": {
        "colab": {
          "base_uri": "https://localhost:8080/"
        },
        "id": "p0u0HCxGuObe",
        "outputId": "008b7f5d-c62f-4171-b049-778496b0a6e1"
      },
      "execution_count": 18,
      "outputs": [
        {
          "output_type": "execute_result",
          "data": {
            "text/plain": [
              "[('part', 'NOUN'),\n",
              " ('i', 'VERB'),\n",
              " ('chapter', 'NOUN'),\n",
              " ('i', 'NOUN'),\n",
              " ('on', 'ADP'),\n",
              " ('an', 'DET'),\n",
              " ('exceptionally', 'ADV'),\n",
              " ('hot', 'ADJ'),\n",
              " ('evening', 'VERB'),\n",
              " ('early', 'ADJ')]"
            ]
          },
          "metadata": {},
          "execution_count": 18
        }
      ]
    },
    {
      "cell_type": "markdown",
      "source": [
        "Custom Lemantizer class"
      ],
      "metadata": {
        "id": "LsE4MHx3xioS"
      }
    },
    {
      "cell_type": "code",
      "source": [
        "class custom_lemmatizer:\n",
        "\n",
        "    tag_dict = {\n",
        "        \"ADJ\": wordnet.ADJ,\n",
        "        \"NOUN\": wordnet.NOUN,\n",
        "        \"VERB\": wordnet.VERB,\n",
        "        \"ADV\": wordnet.ADV\n",
        "    }\n",
        "\n",
        "    lemmatizer = WordNetLemmatizer()\n",
        "\n",
        "    def lemmatize(self, word_pos_tuple):\n",
        "        word = word_pos_tuple[0]\n",
        "        pos_tag = word_pos_tuple[1]\n",
        "        if pos_tag in self.tag_dict:\n",
        "            return self.lemmatizer.lemmatize(word, self.tag_dict[pos_tag]).lower()\n",
        "        else:\n",
        "            return word.lower()\n"
      ],
      "metadata": {
        "id": "bH0jg9JdvgVW"
      },
      "execution_count": 22,
      "outputs": []
    },
    {
      "cell_type": "code",
      "source": [
        "lemmatizer = custom_lemmatizer()\n",
        "\n",
        "lemmatized_tokens = [lemmatizer.lemmatize(pos_tag) for pos_tag in pos_tags]\n"
      ],
      "metadata": {
        "id": "5JZECAk-xyEy"
      },
      "execution_count": 23,
      "outputs": []
    },
    {
      "cell_type": "code",
      "source": [
        "#obliged mapped to oblige @100\n",
        "lemmatized_tokens[100:109], tokens[100:109]"
      ],
      "metadata": {
        "colab": {
          "base_uri": "https://localhost:8080/"
        },
        "id": "t0QycP8zyMK0",
        "outputId": "5bc84c2b-0bfd-42d0-825c-989e869cd1f8"
      },
      "execution_count": 29,
      "outputs": [
        {
          "output_type": "execute_result",
          "data": {
            "text/plain": [
              "(['oblige', 'to', 'pass', 'her', 'kitchen', ',', 'the', 'door', 'of'],\n",
              " ['obliged', 'to', 'pass', 'her', 'kitchen', ',', 'the', 'door', 'of'])"
            ]
          },
          "metadata": {},
          "execution_count": 29
        }
      ]
    },
    {
      "cell_type": "markdown",
      "source": [
        "bigram filter "
      ],
      "metadata": {
        "id": "fp6snhrhz3Eu"
      }
    },
    {
      "cell_type": "code",
      "source": [],
      "metadata": {
        "id": "-_Vu8dL5ygaA"
      },
      "execution_count": null,
      "outputs": []
    },
    {
      "cell_type": "markdown",
      "source": [
        "#Collecation list"
      ],
      "metadata": {
        "id": "Q9mhhnbM2Zlj"
      }
    },
    {
      "cell_type": "code",
      "source": [
        "def generate_collocations(tokens, window_size):\n",
        "    collocations = []\n",
        "\n",
        "    for i in range(len(tokens) - window_size-1):\n",
        "        for j in range(window_size):\n",
        "            collocation = (tokens[i], tokens[i+j+1])\n",
        "        \n",
        "            collocations.append(collocation)\n",
        "\n",
        "    return collocations\n"
      ],
      "metadata": {
        "id": "E91qfTAv2bdv"
      },
      "execution_count": 36,
      "outputs": []
    },
    {
      "cell_type": "markdown",
      "source": [
        "#Trash"
      ],
      "metadata": {
        "id": "cHZ6L8aa24jR"
      }
    },
    {
      "cell_type": "code",
      "source": [],
      "metadata": {
        "id": "amyX5FXD26J-"
      },
      "execution_count": null,
      "outputs": []
    }
  ]
}